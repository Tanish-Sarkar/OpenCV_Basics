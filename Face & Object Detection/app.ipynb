{
 "cells": [
  {
   "cell_type": "markdown",
   "id": "aac759d7",
   "metadata": {},
   "source": [
    "you can get the Haar cascading xmls files from \"https://github.com/opencv/opencv/tree/master/data/haarcascades\""
   ]
  },
  {
   "cell_type": "code",
   "execution_count": 3,
   "id": "b067d016",
   "metadata": {},
   "outputs": [],
   "source": [
    "import cv2\n",
    "\n",
    "face_cascade = cv2.CascadeClassifier(\"./haarcascade_frontalface_default.xml\")\n",
    "\n",
    "cap = cv2.VideoCapture(0)\n",
    "\n",
    "while True:\n",
    "    ret, frame = cap.read()\n",
    "    gray = cv2.cvtColor(frame, cv2.COLOR_BGR2GRAY)\n",
    "\n",
    "    faces = face_cascade.detectMultiScale(gray, 1.1, 5)\n",
    "\n",
    "    \"\"\"\n",
    "    detectMultiScale([image], [scale], [min no. of neightbour]) -> dectect face\n",
    "    min neighbour(no. of times the face will be checked) ==> 3 - loose check\n",
    "                                                            5 - safe check\n",
    "                                                            < 5 - strict check\n",
    "    \"\"\"\n",
    "    for(x,y,w,h) in faces:\n",
    "        cv2.rectangle(frame, (x,y), (x+w, y+h), (0,255,0), 2)\n",
    "\n",
    "    cv2.imshow(\"Webcame face dectection\", frame)\n",
    "\n",
    "    if cv2.waitKey(1) & 0xFF == ord('q'):\n",
    "        break\n",
    "\n",
    "cap.release()\n",
    "cv2.destroyAllWindows()"
   ]
  },
  {
   "cell_type": "code",
   "execution_count": null,
   "id": "8bd1ee17",
   "metadata": {},
   "outputs": [],
   "source": []
  }
 ],
 "metadata": {
  "kernelspec": {
   "display_name": "Python 3",
   "language": "python",
   "name": "python3"
  },
  "language_info": {
   "codemirror_mode": {
    "name": "ipython",
    "version": 3
   },
   "file_extension": ".py",
   "mimetype": "text/x-python",
   "name": "python",
   "nbconvert_exporter": "python",
   "pygments_lexer": "ipython3",
   "version": "3.13.5"
  }
 },
 "nbformat": 4,
 "nbformat_minor": 5
}
