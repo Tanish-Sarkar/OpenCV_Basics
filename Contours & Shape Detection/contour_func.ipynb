{
 "cells": [
  {
   "cell_type": "code",
   "execution_count": 1,
   "id": "d4a8c3af",
   "metadata": {},
   "outputs": [
    {
     "ename": "error",
     "evalue": "OpenCV(4.12.0) :-1: error: (-5:Bad argument) in function 'arcLength'\n> Overload resolution failed:\n>  - arcLength() missing required argument 'closed' (pos 2)\n>  - arcLength() missing required argument 'closed' (pos 2)\n",
     "output_type": "error",
     "traceback": [
      "\u001b[31m---------------------------------------------------------------------------\u001b[39m",
      "\u001b[31merror\u001b[39m                                     Traceback (most recent call last)",
      "\u001b[36mCell\u001b[39m\u001b[36m \u001b[39m\u001b[32mIn[1]\u001b[39m\u001b[32m, line 24\u001b[39m\n\u001b[32m     21\u001b[39m cv2.drawContours(image, contours, -\u001b[32m1\u001b[39m, (\u001b[32m0\u001b[39m,\u001b[32m255\u001b[39m,\u001b[32m0\u001b[39m), \u001b[32m2\u001b[39m)\n\u001b[32m     23\u001b[39m \u001b[38;5;28;01mfor\u001b[39;00m contour \u001b[38;5;129;01min\u001b[39;00m contours:\n\u001b[32m---> \u001b[39m\u001b[32m24\u001b[39m     approx = cv2.approxPolyDP(contour, \u001b[32m0.01\u001b[39m*\u001b[43mcv2\u001b[49m\u001b[43m.\u001b[49m\u001b[43marcLength\u001b[49m\u001b[43m(\u001b[49m\u001b[43mcontour\u001b[49m\u001b[43m)\u001b[49m)\n\u001b[32m     26\u001b[39m     corner = \u001b[38;5;28mlen\u001b[39m(approx)\n\u001b[32m     28\u001b[39m     \u001b[38;5;28;01mif\u001b[39;00m corner == \u001b[32m3\u001b[39m:\n",
      "\u001b[31merror\u001b[39m: OpenCV(4.12.0) :-1: error: (-5:Bad argument) in function 'arcLength'\n> Overload resolution failed:\n>  - arcLength() missing required argument 'closed' (pos 2)\n>  - arcLength() missing required argument 'closed' (pos 2)\n"
     ]
    }
   ],
   "source": [
    "import cv2\n",
    "import sys\n",
    "import numpy as np\n",
    "\n",
    "absolute_path = \"./circle.jpg\"\n",
    "image = cv2.imread(absolute_path) \n",
    "\n",
    "# CRITICAL CHECK: Always verify if the image loaded successfully\n",
    "if image is None:\n",
    "    print(\"ERROR: Could not open or find the image.\")\n",
    "    print(f\"The path used was: {absolute_path}\")\n",
    "    sys.exit()\n",
    "\n",
    "gray = cv2.cvtColor(image, cv2.COLOR_BGR2GRAY)\n",
    "_, thresh = cv2.threshold(gray, 240, 255, cv2.THRESH_BINARY)\n",
    "\n",
    "# Finding Contour\n",
    "contours, heirarchy = cv2.findContours(thresh, cv2.RETR_TREE, cv2.CHAIN_APPROX_SIMPLE)\n",
    "\n",
    "# Drawing the Contour\n",
    "cv2.drawContours(image, contours, -1, (0,255,0), 2)\n",
    "\n",
    "for contour in contours:\n",
    "    approx = cv2.approxPolyDP(contour, 0.01*cv2.arcLength(contour))\n",
    "\n",
    "    corner = len(approx)\n",
    "\n",
    "    if corner == 3:\n",
    "        shape_name = \"Triangle\"\n",
    "    elif corner == 4:\n",
    "        shape_name = \"Rectangle\"\n",
    "    else:\n",
    "        shape_name = \"Polygon\"\n",
    "\n",
    "    cv2.drawContours(image, [approx], 0, (0,255,0), 2)\n",
    "    x = approx.ravel()[0]\n",
    "    y = approx.ravel()[1] - 10\n",
    "    cv2.putText(image, shape_name, (x,y) ,cv2.FONT_HERSHEY_SIMPLEX, 0.6, 2)\n",
    "\n",
    "\n",
    "\n",
    "cv2.imshow(\"Contoured image\", image)\n",
    "cv2.waitKey(0)\n",
    "cv2.destroyAllWindows()"
   ]
  },
  {
   "cell_type": "code",
   "execution_count": null,
   "id": "2bf543c1",
   "metadata": {},
   "outputs": [],
   "source": []
  }
 ],
 "metadata": {
  "kernelspec": {
   "display_name": "Python 3",
   "language": "python",
   "name": "python3"
  },
  "language_info": {
   "codemirror_mode": {
    "name": "ipython",
    "version": 3
   },
   "file_extension": ".py",
   "mimetype": "text/x-python",
   "name": "python",
   "nbconvert_exporter": "python",
   "pygments_lexer": "ipython3",
   "version": "3.13.5"
  }
 },
 "nbformat": 4,
 "nbformat_minor": 5
}
